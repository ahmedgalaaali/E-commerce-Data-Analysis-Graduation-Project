{
 "cells": [
  {
   "cell_type": "markdown",
   "id": "b4a19661",
   "metadata": {},
   "source": [
    "# **Initial Data Cleaning**"
   ]
  },
  {
   "cell_type": "markdown",
   "id": "71cbf33a",
   "metadata": {},
   "source": [
    "## **Setting Up Environment**\n"
   ]
  },
  {
   "cell_type": "markdown",
   "id": "de4b4181",
   "metadata": {},
   "source": [
    "### 1. Imprting Essential liberaries"
   ]
  },
  {
   "cell_type": "code",
   "execution_count": 2,
   "id": "ade1c141-411b-4479-ace8-41117749fcca",
   "metadata": {},
   "outputs": [],
   "source": [
    "import numpy as np  \n",
    "import pandas as pd  \n",
    "import matplotlib.pyplot as plt  \n",
    "import seaborn as sns  \n",
    "import plotly.express as px  \n",
    "import os  \n",
    "import time  \n",
    "import random \n",
    "import re "
   ]
  },
  {
   "cell_type": "markdown",
   "id": "a6f22062",
   "metadata": {},
   "source": [
    "### 2. Reading the original CSV files"
   ]
  },
  {
   "cell_type": "code",
   "execution_count": 3,
   "id": "58500112-c6a7-487f-afc8-fa362400ee62",
   "metadata": {},
   "outputs": [],
   "source": [
    "df_customer = pd.read_csv(r\"C:\\Mine\\My Projects\\E-commerce database\\CSV files\\customer_dim.csv\")\n",
    "df_fact = pd.read_csv(r\"C:\\Mine\\My Projects\\E-commerce database\\CSV files\\fact_table.csv\")\n",
    "df_item = pd.read_csv(r\"C:\\Mine\\My Projects\\E-commerce database\\CSV files\\item_dim.csv\")\n",
    "df_store = pd.read_csv(r\"C:\\Mine\\My Projects\\E-commerce database\\CSV files\\store_dim.csv\")\n",
    "df_time = pd.read_csv(r\"C:\\Mine\\My Projects\\E-commerce database\\CSV files\\time_dim.csv\")\n",
    "df_trans = pd.read_csv(r\"C:\\Mine\\My Projects\\E-commerce database\\CSV files\\trans_dim.csv\")\n"
   ]
  },
  {
   "cell_type": "markdown",
   "id": "02384309",
   "metadata": {},
   "source": [
    "## **Data Inspection and Cleaning**"
   ]
  },
  {
   "cell_type": "markdown",
   "id": "6378e2cf-61ee-41a2-a3e2-d479c802b6a5",
   "metadata": {},
   "source": [
    "### **1. Customer table**"
   ]
  },
  {
   "cell_type": "code",
   "execution_count": 4,
   "id": "b1b8c9a3-98c7-4079-a96b-3245758b6396",
   "metadata": {},
   "outputs": [
    {
     "data": {
      "text/html": [
       "<div>\n",
       "<style scoped>\n",
       "    .dataframe tbody tr th:only-of-type {\n",
       "        vertical-align: middle;\n",
       "    }\n",
       "\n",
       "    .dataframe tbody tr th {\n",
       "        vertical-align: top;\n",
       "    }\n",
       "\n",
       "    .dataframe thead th {\n",
       "        text-align: right;\n",
       "    }\n",
       "</style>\n",
       "<table border=\"1\" class=\"dataframe\">\n",
       "  <thead>\n",
       "    <tr style=\"text-align: right;\">\n",
       "      <th></th>\n",
       "      <th>customer_key</th>\n",
       "      <th>name</th>\n",
       "      <th>contact_no</th>\n",
       "      <th>nid</th>\n",
       "    </tr>\n",
       "  </thead>\n",
       "  <tbody>\n",
       "    <tr>\n",
       "      <th>0</th>\n",
       "      <td>C000001</td>\n",
       "      <td>sumit</td>\n",
       "      <td>8801920345851</td>\n",
       "      <td>7505075708899</td>\n",
       "    </tr>\n",
       "    <tr>\n",
       "      <th>1</th>\n",
       "      <td>C000002</td>\n",
       "      <td>tammanne</td>\n",
       "      <td>8801817069329</td>\n",
       "      <td>1977731324842</td>\n",
       "    </tr>\n",
       "    <tr>\n",
       "      <th>2</th>\n",
       "      <td>C000003</td>\n",
       "      <td>kailash kumar</td>\n",
       "      <td>8801663795774</td>\n",
       "      <td>3769494056318</td>\n",
       "    </tr>\n",
       "    <tr>\n",
       "      <th>3</th>\n",
       "      <td>C000004</td>\n",
       "      <td>bhagwati prasad</td>\n",
       "      <td>8801533627961</td>\n",
       "      <td>9378834712725</td>\n",
       "    </tr>\n",
       "    <tr>\n",
       "      <th>4</th>\n",
       "      <td>C000005</td>\n",
       "      <td>ajay</td>\n",
       "      <td>8801943715786</td>\n",
       "      <td>3540815556323</td>\n",
       "    </tr>\n",
       "  </tbody>\n",
       "</table>\n",
       "</div>"
      ],
      "text/plain": [
       "  customer_key             name     contact_no            nid\n",
       "0      C000001            sumit  8801920345851  7505075708899\n",
       "1      C000002         tammanne  8801817069329  1977731324842\n",
       "2      C000003    kailash kumar  8801663795774  3769494056318\n",
       "3      C000004  bhagwati prasad  8801533627961  9378834712725\n",
       "4      C000005             ajay  8801943715786  3540815556323"
      ]
     },
     "execution_count": 4,
     "metadata": {},
     "output_type": "execute_result"
    }
   ],
   "source": [
    "df_customer.head()"
   ]
  },
  {
   "cell_type": "code",
   "execution_count": 5,
   "id": "c5db96e8-bdff-4c1c-9a32-5f869b402f90",
   "metadata": {},
   "outputs": [
    {
     "name": "stdout",
     "output_type": "stream",
     "text": [
      "<class 'pandas.core.frame.DataFrame'>\n",
      "RangeIndex: 9191 entries, 0 to 9190\n",
      "Data columns (total 4 columns):\n",
      " #   Column        Non-Null Count  Dtype \n",
      "---  ------        --------------  ----- \n",
      " 0   customer_key  9191 non-null   object\n",
      " 1   name          9164 non-null   object\n",
      " 2   contact_no    9191 non-null   int64 \n",
      " 3   nid           9191 non-null   int64 \n",
      "dtypes: int64(2), object(2)\n",
      "memory usage: 287.3+ KB\n"
     ]
    }
   ],
   "source": [
    "df_customer.info()"
   ]
  },
  {
   "cell_type": "code",
   "execution_count": 6,
   "id": "df693cf8-c41a-4553-b3b8-925b70398fa4",
   "metadata": {},
   "outputs": [
    {
     "name": "stdout",
     "output_type": "stream",
     "text": [
      "No Duplicated Found\n"
     ]
    }
   ],
   "source": [
    "if df_customer['customer_key'].duplicated().any():\n",
    "    print(\"Duplicate customer keys found!\")\n",
    "else :\n",
    "    print(\"No Duplicated Found\")"
   ]
  },
  {
   "cell_type": "code",
   "execution_count": 7,
   "id": "a5bb3cad-1790-4d5a-8eab-e648c34464ed",
   "metadata": {},
   "outputs": [
    {
     "data": {
      "text/plain": [
       "27"
      ]
     },
     "execution_count": 7,
     "metadata": {},
     "output_type": "execute_result"
    }
   ],
   "source": [
    "df_customer.name.isnull().sum()"
   ]
  },
  {
   "cell_type": "code",
   "execution_count": 8,
   "id": "f1294e90-de11-4877-8aad-7a8b72e951c9",
   "metadata": {},
   "outputs": [
    {
     "name": "stderr",
     "output_type": "stream",
     "text": [
      "C:\\Users\\ahmed\\AppData\\Local\\Temp\\ipykernel_3276\\1986894991.py:1: FutureWarning: A value is trying to be set on a copy of a DataFrame or Series through chained assignment using an inplace method.\n",
      "The behavior will change in pandas 3.0. This inplace method will never work because the intermediate object on which we are setting values always behaves as a copy.\n",
      "\n",
      "For example, when doing 'df[col].method(value, inplace=True)', try using 'df.method({col: value}, inplace=True)' or df[col] = df[col].method(value) instead, to perform the operation inplace on the original object.\n",
      "\n",
      "\n",
      "  df_customer['name'].fillna('Anonymous Customer', inplace=True)\n"
     ]
    }
   ],
   "source": [
    "df_customer['name'].fillna('Anonymous Customer', inplace=True)"
   ]
  },
  {
   "cell_type": "code",
   "execution_count": 9,
   "id": "916c17e0-ef1b-47b3-abd6-a11a417b6b9e",
   "metadata": {},
   "outputs": [
    {
     "data": {
      "text/plain": [
       "0"
      ]
     },
     "execution_count": 9,
     "metadata": {},
     "output_type": "execute_result"
    }
   ],
   "source": [
    "df_customer.name.isnull().sum()"
   ]
  },
  {
   "cell_type": "code",
   "execution_count": 10,
   "id": "e8f35bfc-3076-43f6-a267-28c9d064f2fd",
   "metadata": {},
   "outputs": [],
   "source": [
    "def manipulate_strings(column):\n",
    "    column_cleaned = re.sub(r'[^a-zA-Z\\s]', '', column)\n",
    "    case = column_cleaned.title()\n",
    "    return case"
   ]
  },
  {
   "cell_type": "code",
   "execution_count": 11,
   "id": "88a4839b-4e06-4ef2-baa1-57c1096b4c59",
   "metadata": {},
   "outputs": [
    {
     "data": {
      "text/plain": [
       "0                 Sumit\n",
       "1              Tammanne\n",
       "2         Kailash Kumar\n",
       "3       Bhagwati Prasad\n",
       "4                  Ajay\n",
       "             ...       \n",
       "9186          Smt Radha\n",
       "9187       Tulsi Sharma\n",
       "9188          Madhubala\n",
       "9189         Pintu Devi\n",
       "9190              Roopa\n",
       "Name: name, Length: 9191, dtype: object"
      ]
     },
     "execution_count": 11,
     "metadata": {},
     "output_type": "execute_result"
    }
   ],
   "source": [
    "df_customer['name'] = df_customer['name'].apply(manipulate_strings)\n",
    "df_customer['name']"
   ]
  },
  {
   "cell_type": "code",
   "execution_count": 12,
   "id": "8b938d92-8540-4b03-8e40-0a5ab0f14d9b",
   "metadata": {},
   "outputs": [],
   "source": [
    "df_customer['contact_no'] = df_customer['contact_no'].astype(str)\n",
    "df_customer['nid'] = df_customer['nid'].astype(str)"
   ]
  },
  {
   "cell_type": "markdown",
   "id": "efe7bc35",
   "metadata": {},
   "source": [
    "## **Summary**"
   ]
  },
  {
   "cell_type": "markdown",
   "id": "4e3ab306",
   "metadata": {},
   "source": [
    "| Category             | State | Action |\n",
    "|----------------------|-------|--------|\n",
    "| Number of duplicates | None  | None   |\n",
    "| Null values          | 27 (name) | Filled with \"Anonymous Customer\" |\n",
    "| Names values inspection | Need reformatting | Applied a defined manipulate_strings formula |"
   ]
  },
  {
   "cell_type": "markdown",
   "id": "c26bbec4-4fdd-41a2-9996-0bd0b5e0b78f",
   "metadata": {},
   "source": [
    "---------------------"
   ]
  },
  {
   "cell_type": "markdown",
   "id": "da690e12-f466-42ca-9c2c-582cf00acbf4",
   "metadata": {},
   "source": [
    "### **2. Fact Table**"
   ]
  },
  {
   "cell_type": "code",
   "execution_count": 13,
   "id": "120b5866-bcbf-4d45-abb4-e013c683c418",
   "metadata": {},
   "outputs": [
    {
     "data": {
      "text/html": [
       "<div>\n",
       "<style scoped>\n",
       "    .dataframe tbody tr th:only-of-type {\n",
       "        vertical-align: middle;\n",
       "    }\n",
       "\n",
       "    .dataframe tbody tr th {\n",
       "        vertical-align: top;\n",
       "    }\n",
       "\n",
       "    .dataframe thead th {\n",
       "        text-align: right;\n",
       "    }\n",
       "</style>\n",
       "<table border=\"1\" class=\"dataframe\">\n",
       "  <thead>\n",
       "    <tr style=\"text-align: right;\">\n",
       "      <th></th>\n",
       "      <th>payment_key</th>\n",
       "      <th>customer_key</th>\n",
       "      <th>time_key</th>\n",
       "      <th>item_key</th>\n",
       "      <th>store_key</th>\n",
       "      <th>quantity</th>\n",
       "      <th>unit</th>\n",
       "      <th>unit_price</th>\n",
       "      <th>total_price</th>\n",
       "    </tr>\n",
       "  </thead>\n",
       "  <tbody>\n",
       "    <tr>\n",
       "      <th>0</th>\n",
       "      <td>P026</td>\n",
       "      <td>C004510</td>\n",
       "      <td>T049189</td>\n",
       "      <td>I00177</td>\n",
       "      <td>S00307</td>\n",
       "      <td>1</td>\n",
       "      <td>ct</td>\n",
       "      <td>35.0</td>\n",
       "      <td>35.0</td>\n",
       "    </tr>\n",
       "    <tr>\n",
       "      <th>1</th>\n",
       "      <td>P022</td>\n",
       "      <td>C008967</td>\n",
       "      <td>T041209</td>\n",
       "      <td>I00248</td>\n",
       "      <td>S00595</td>\n",
       "      <td>1</td>\n",
       "      <td>rolls</td>\n",
       "      <td>26.0</td>\n",
       "      <td>26.0</td>\n",
       "    </tr>\n",
       "    <tr>\n",
       "      <th>2</th>\n",
       "      <td>P030</td>\n",
       "      <td>C007261</td>\n",
       "      <td>T03633</td>\n",
       "      <td>I00195</td>\n",
       "      <td>S00496</td>\n",
       "      <td>8</td>\n",
       "      <td>ct</td>\n",
       "      <td>12.5</td>\n",
       "      <td>100.0</td>\n",
       "    </tr>\n",
       "    <tr>\n",
       "      <th>3</th>\n",
       "      <td>P032</td>\n",
       "      <td>C007048</td>\n",
       "      <td>T084631</td>\n",
       "      <td>I00131</td>\n",
       "      <td>S0086</td>\n",
       "      <td>8</td>\n",
       "      <td>ct</td>\n",
       "      <td>14.0</td>\n",
       "      <td>112.0</td>\n",
       "    </tr>\n",
       "    <tr>\n",
       "      <th>4</th>\n",
       "      <td>P014</td>\n",
       "      <td>C006430</td>\n",
       "      <td>T071276</td>\n",
       "      <td>I00050</td>\n",
       "      <td>S00488</td>\n",
       "      <td>8</td>\n",
       "      <td>cans</td>\n",
       "      <td>8.0</td>\n",
       "      <td>64.0</td>\n",
       "    </tr>\n",
       "  </tbody>\n",
       "</table>\n",
       "</div>"
      ],
      "text/plain": [
       "  payment_key customer_key time_key item_key store_key  quantity   unit  \\\n",
       "0        P026      C004510  T049189   I00177    S00307         1     ct   \n",
       "1        P022      C008967  T041209   I00248    S00595         1  rolls   \n",
       "2        P030      C007261   T03633   I00195    S00496         8     ct   \n",
       "3        P032      C007048  T084631   I00131     S0086         8     ct   \n",
       "4        P014      C006430  T071276   I00050    S00488         8   cans   \n",
       "\n",
       "   unit_price  total_price  \n",
       "0        35.0         35.0  \n",
       "1        26.0         26.0  \n",
       "2        12.5        100.0  \n",
       "3        14.0        112.0  \n",
       "4         8.0         64.0  "
      ]
     },
     "execution_count": 13,
     "metadata": {},
     "output_type": "execute_result"
    }
   ],
   "source": [
    "df_fact.head()"
   ]
  },
  {
   "cell_type": "code",
   "execution_count": 14,
   "id": "82fb8ab8-ca69-4bd2-bde7-ea3c0f24dbf9",
   "metadata": {},
   "outputs": [
    {
     "data": {
      "text/html": [
       "<div>\n",
       "<style scoped>\n",
       "    .dataframe tbody tr th:only-of-type {\n",
       "        vertical-align: middle;\n",
       "    }\n",
       "\n",
       "    .dataframe tbody tr th {\n",
       "        vertical-align: top;\n",
       "    }\n",
       "\n",
       "    .dataframe thead th {\n",
       "        text-align: right;\n",
       "    }\n",
       "</style>\n",
       "<table border=\"1\" class=\"dataframe\">\n",
       "  <thead>\n",
       "    <tr style=\"text-align: right;\">\n",
       "      <th></th>\n",
       "      <th>quantity</th>\n",
       "      <th>unit_price</th>\n",
       "      <th>total_price</th>\n",
       "    </tr>\n",
       "  </thead>\n",
       "  <tbody>\n",
       "    <tr>\n",
       "      <th>count</th>\n",
       "      <td>1000000.000000</td>\n",
       "      <td>1000000.000000</td>\n",
       "      <td>1000000.000000</td>\n",
       "    </tr>\n",
       "    <tr>\n",
       "      <th>mean</th>\n",
       "      <td>6.000185</td>\n",
       "      <td>17.561602</td>\n",
       "      <td>105.401436</td>\n",
       "    </tr>\n",
       "    <tr>\n",
       "      <th>std</th>\n",
       "      <td>3.161932</td>\n",
       "      <td>8.637097</td>\n",
       "      <td>80.829301</td>\n",
       "    </tr>\n",
       "    <tr>\n",
       "      <th>min</th>\n",
       "      <td>1.000000</td>\n",
       "      <td>6.000000</td>\n",
       "      <td>6.000000</td>\n",
       "    </tr>\n",
       "    <tr>\n",
       "      <th>25%</th>\n",
       "      <td>3.000000</td>\n",
       "      <td>13.000000</td>\n",
       "      <td>47.250000</td>\n",
       "    </tr>\n",
       "    <tr>\n",
       "      <th>50%</th>\n",
       "      <td>6.000000</td>\n",
       "      <td>16.000000</td>\n",
       "      <td>90.000000</td>\n",
       "    </tr>\n",
       "    <tr>\n",
       "      <th>75%</th>\n",
       "      <td>9.000000</td>\n",
       "      <td>20.000000</td>\n",
       "      <td>144.000000</td>\n",
       "    </tr>\n",
       "    <tr>\n",
       "      <th>max</th>\n",
       "      <td>11.000000</td>\n",
       "      <td>55.000000</td>\n",
       "      <td>605.000000</td>\n",
       "    </tr>\n",
       "  </tbody>\n",
       "</table>\n",
       "</div>"
      ],
      "text/plain": [
       "             quantity      unit_price     total_price\n",
       "count  1000000.000000  1000000.000000  1000000.000000\n",
       "mean         6.000185       17.561602      105.401436\n",
       "std          3.161932        8.637097       80.829301\n",
       "min          1.000000        6.000000        6.000000\n",
       "25%          3.000000       13.000000       47.250000\n",
       "50%          6.000000       16.000000       90.000000\n",
       "75%          9.000000       20.000000      144.000000\n",
       "max         11.000000       55.000000      605.000000"
      ]
     },
     "execution_count": 14,
     "metadata": {},
     "output_type": "execute_result"
    }
   ],
   "source": [
    "df_fact.describe()"
   ]
  },
  {
   "cell_type": "code",
   "execution_count": 15,
   "id": "23a0b124-e370-4218-ae99-8827fd60f2f9",
   "metadata": {},
   "outputs": [
    {
     "name": "stdout",
     "output_type": "stream",
     "text": [
      "<class 'pandas.core.frame.DataFrame'>\n",
      "RangeIndex: 1000000 entries, 0 to 999999\n",
      "Data columns (total 9 columns):\n",
      " #   Column        Non-Null Count    Dtype  \n",
      "---  ------        --------------    -----  \n",
      " 0   payment_key   1000000 non-null  object \n",
      " 1   customer_key  1000000 non-null  object \n",
      " 2   time_key      1000000 non-null  object \n",
      " 3   item_key      1000000 non-null  object \n",
      " 4   store_key     1000000 non-null  object \n",
      " 5   quantity      1000000 non-null  int64  \n",
      " 6   unit          996277 non-null   object \n",
      " 7   unit_price    1000000 non-null  float64\n",
      " 8   total_price   1000000 non-null  float64\n",
      "dtypes: float64(2), int64(1), object(6)\n",
      "memory usage: 68.7+ MB\n"
     ]
    }
   ],
   "source": [
    "df_fact.info()"
   ]
  },
  {
   "cell_type": "code",
   "execution_count": 16,
   "id": "a17fb24e-820c-4168-9fbd-f0a923bade90",
   "metadata": {},
   "outputs": [
    {
     "data": {
      "text/html": [
       "<div>\n",
       "<style scoped>\n",
       "    .dataframe tbody tr th:only-of-type {\n",
       "        vertical-align: middle;\n",
       "    }\n",
       "\n",
       "    .dataframe tbody tr th {\n",
       "        vertical-align: top;\n",
       "    }\n",
       "\n",
       "    .dataframe thead th {\n",
       "        text-align: right;\n",
       "    }\n",
       "</style>\n",
       "<table border=\"1\" class=\"dataframe\">\n",
       "  <thead>\n",
       "    <tr style=\"text-align: right;\">\n",
       "      <th></th>\n",
       "      <th>payment_key</th>\n",
       "      <th>customer_key</th>\n",
       "      <th>time_key</th>\n",
       "      <th>item_key</th>\n",
       "      <th>store_key</th>\n",
       "      <th>quantity</th>\n",
       "      <th>unit</th>\n",
       "      <th>unit_price</th>\n",
       "      <th>total_price</th>\n",
       "    </tr>\n",
       "  </thead>\n",
       "  <tbody>\n",
       "    <tr>\n",
       "      <th>986340</th>\n",
       "      <td>P033</td>\n",
       "      <td>C003623</td>\n",
       "      <td>T068385</td>\n",
       "      <td>I00028</td>\n",
       "      <td>S00575</td>\n",
       "      <td>5</td>\n",
       "      <td>cans</td>\n",
       "      <td>6.75</td>\n",
       "      <td>33.75</td>\n",
       "    </tr>\n",
       "    <tr>\n",
       "      <th>878816</th>\n",
       "      <td>P020</td>\n",
       "      <td>C004737</td>\n",
       "      <td>T04614</td>\n",
       "      <td>I00135</td>\n",
       "      <td>S00175</td>\n",
       "      <td>5</td>\n",
       "      <td>ct.</td>\n",
       "      <td>14.00</td>\n",
       "      <td>70.00</td>\n",
       "    </tr>\n",
       "    <tr>\n",
       "      <th>317736</th>\n",
       "      <td>P017</td>\n",
       "      <td>C006337</td>\n",
       "      <td>T066250</td>\n",
       "      <td>I00113</td>\n",
       "      <td>S00102</td>\n",
       "      <td>4</td>\n",
       "      <td>ct</td>\n",
       "      <td>42.00</td>\n",
       "      <td>168.00</td>\n",
       "    </tr>\n",
       "    <tr>\n",
       "      <th>111378</th>\n",
       "      <td>P011</td>\n",
       "      <td>C005534</td>\n",
       "      <td>T078403</td>\n",
       "      <td>I00140</td>\n",
       "      <td>S00281</td>\n",
       "      <td>7</td>\n",
       "      <td>ct</td>\n",
       "      <td>29.00</td>\n",
       "      <td>203.00</td>\n",
       "    </tr>\n",
       "    <tr>\n",
       "      <th>588519</th>\n",
       "      <td>P008</td>\n",
       "      <td>C005363</td>\n",
       "      <td>T085929</td>\n",
       "      <td>I00057</td>\n",
       "      <td>S0097</td>\n",
       "      <td>1</td>\n",
       "      <td>bottles</td>\n",
       "      <td>24.00</td>\n",
       "      <td>24.00</td>\n",
       "    </tr>\n",
       "  </tbody>\n",
       "</table>\n",
       "</div>"
      ],
      "text/plain": [
       "       payment_key customer_key time_key item_key store_key  quantity  \\\n",
       "986340        P033      C003623  T068385   I00028    S00575         5   \n",
       "878816        P020      C004737   T04614   I00135    S00175         5   \n",
       "317736        P017      C006337  T066250   I00113    S00102         4   \n",
       "111378        P011      C005534  T078403   I00140    S00281         7   \n",
       "588519        P008      C005363  T085929   I00057     S0097         1   \n",
       "\n",
       "           unit  unit_price  total_price  \n",
       "986340     cans        6.75        33.75  \n",
       "878816      ct.       14.00        70.00  \n",
       "317736       ct       42.00       168.00  \n",
       "111378       ct       29.00       203.00  \n",
       "588519  bottles       24.00        24.00  "
      ]
     },
     "execution_count": 16,
     "metadata": {},
     "output_type": "execute_result"
    }
   ],
   "source": [
    "df_fact.sample(5)"
   ]
  },
  {
   "cell_type": "code",
   "execution_count": 17,
   "id": "7705623d-b9d1-4654-8f4f-79b6a44f1003",
   "metadata": {},
   "outputs": [
    {
     "data": {
      "text/plain": [
       "item_key\n",
       "I00015    3952\n",
       "I00203    3939\n",
       "I00082    3923\n",
       "I00257    3920\n",
       "I00230    3913\n",
       "          ... \n",
       "I00168    3666\n",
       "I00141    3665\n",
       "I00068    3665\n",
       "I00173    3659\n",
       "I00051    3625\n",
       "Name: count, Length: 264, dtype: int64"
      ]
     },
     "execution_count": 17,
     "metadata": {},
     "output_type": "execute_result"
    }
   ],
   "source": [
    "df_fact['item_key'].value_counts()"
   ]
  },
  {
   "cell_type": "code",
   "execution_count": 18,
   "id": "558265ce-c298-4496-8bf2-c8c7c6f837c9",
   "metadata": {},
   "outputs": [
    {
     "data": {
      "text/plain": [
       "unit\n",
       "ct          355938\n",
       "cans        215602\n",
       "bottles     140073\n",
       "oz           71956\n",
       "bags         49739\n",
       "pk           37918\n",
       "ct.          30474\n",
       "bars         18950\n",
       "pack         18876\n",
       "Bags         11298\n",
       "tubs         11271\n",
       "rolls         7624\n",
       "Ct            7575\n",
       "cartons       3893\n",
       "botlltes      3796\n",
       "lb            3795\n",
       "tins          3772\n",
       "oz.           3727\n",
       "Name: count, dtype: int64"
      ]
     },
     "execution_count": 18,
     "metadata": {},
     "output_type": "execute_result"
    }
   ],
   "source": [
    "df_fact['unit'].value_counts()"
   ]
  },
  {
   "cell_type": "code",
   "execution_count": 19,
   "id": "62cb5837-ab00-45eb-b069-32c10df5a53d",
   "metadata": {},
   "outputs": [
    {
     "data": {
      "text/plain": [
       "store_key\n",
       "S00182    130082.75\n",
       "S00566    131603.50\n",
       "S00550    131824.00\n",
       "S00100    132461.50\n",
       "S00310    133580.50\n",
       "            ...    \n",
       "S0080     157377.50\n",
       "S0039     157483.00\n",
       "S00328    157692.00\n",
       "S00601    158027.50\n",
       "S0010     159409.00\n",
       "Name: total_price, Length: 726, dtype: float64"
      ]
     },
     "execution_count": 19,
     "metadata": {},
     "output_type": "execute_result"
    }
   ],
   "source": [
    "df_fact.groupby('store_key')['total_price'].sum().sort_values()"
   ]
  },
  {
   "cell_type": "code",
   "execution_count": 20,
   "id": "05a94cdf-7978-461c-98e0-78009121c438",
   "metadata": {},
   "outputs": [
    {
     "data": {
      "text/html": [
       "<div>\n",
       "<style scoped>\n",
       "    .dataframe tbody tr th:only-of-type {\n",
       "        vertical-align: middle;\n",
       "    }\n",
       "\n",
       "    .dataframe tbody tr th {\n",
       "        vertical-align: top;\n",
       "    }\n",
       "\n",
       "    .dataframe thead th {\n",
       "        text-align: right;\n",
       "    }\n",
       "</style>\n",
       "<table border=\"1\" class=\"dataframe\">\n",
       "  <thead>\n",
       "    <tr style=\"text-align: right;\">\n",
       "      <th></th>\n",
       "      <th>payment_key</th>\n",
       "      <th>customer_key</th>\n",
       "      <th>time_key</th>\n",
       "      <th>item_key</th>\n",
       "      <th>store_key</th>\n",
       "      <th>quantity</th>\n",
       "      <th>unit</th>\n",
       "      <th>unit_price</th>\n",
       "      <th>total_price</th>\n",
       "    </tr>\n",
       "  </thead>\n",
       "  <tbody>\n",
       "    <tr>\n",
       "      <th>413</th>\n",
       "      <td>P030</td>\n",
       "      <td>C001653</td>\n",
       "      <td>T053668</td>\n",
       "      <td>I00158</td>\n",
       "      <td>S00327</td>\n",
       "      <td>1</td>\n",
       "      <td>NaN</td>\n",
       "      <td>17.0</td>\n",
       "      <td>17.0</td>\n",
       "    </tr>\n",
       "    <tr>\n",
       "      <th>478</th>\n",
       "      <td>P013</td>\n",
       "      <td>C008861</td>\n",
       "      <td>T036513</td>\n",
       "      <td>I00158</td>\n",
       "      <td>S00280</td>\n",
       "      <td>9</td>\n",
       "      <td>NaN</td>\n",
       "      <td>17.0</td>\n",
       "      <td>153.0</td>\n",
       "    </tr>\n",
       "    <tr>\n",
       "      <th>1500</th>\n",
       "      <td>P007</td>\n",
       "      <td>C008864</td>\n",
       "      <td>T052262</td>\n",
       "      <td>I00158</td>\n",
       "      <td>S00308</td>\n",
       "      <td>7</td>\n",
       "      <td>NaN</td>\n",
       "      <td>17.0</td>\n",
       "      <td>119.0</td>\n",
       "    </tr>\n",
       "    <tr>\n",
       "      <th>2033</th>\n",
       "      <td>P037</td>\n",
       "      <td>C002870</td>\n",
       "      <td>T050819</td>\n",
       "      <td>I00158</td>\n",
       "      <td>S00506</td>\n",
       "      <td>7</td>\n",
       "      <td>NaN</td>\n",
       "      <td>17.0</td>\n",
       "      <td>119.0</td>\n",
       "    </tr>\n",
       "    <tr>\n",
       "      <th>2053</th>\n",
       "      <td>P020</td>\n",
       "      <td>C003666</td>\n",
       "      <td>T094595</td>\n",
       "      <td>I00158</td>\n",
       "      <td>S0077</td>\n",
       "      <td>11</td>\n",
       "      <td>NaN</td>\n",
       "      <td>17.0</td>\n",
       "      <td>187.0</td>\n",
       "    </tr>\n",
       "    <tr>\n",
       "      <th>...</th>\n",
       "      <td>...</td>\n",
       "      <td>...</td>\n",
       "      <td>...</td>\n",
       "      <td>...</td>\n",
       "      <td>...</td>\n",
       "      <td>...</td>\n",
       "      <td>...</td>\n",
       "      <td>...</td>\n",
       "      <td>...</td>\n",
       "    </tr>\n",
       "    <tr>\n",
       "      <th>998455</th>\n",
       "      <td>P016</td>\n",
       "      <td>C007003</td>\n",
       "      <td>T04678</td>\n",
       "      <td>I00158</td>\n",
       "      <td>S00522</td>\n",
       "      <td>1</td>\n",
       "      <td>NaN</td>\n",
       "      <td>17.0</td>\n",
       "      <td>17.0</td>\n",
       "    </tr>\n",
       "    <tr>\n",
       "      <th>998754</th>\n",
       "      <td>P039</td>\n",
       "      <td>C004215</td>\n",
       "      <td>T022792</td>\n",
       "      <td>I00158</td>\n",
       "      <td>S0092</td>\n",
       "      <td>9</td>\n",
       "      <td>NaN</td>\n",
       "      <td>17.0</td>\n",
       "      <td>153.0</td>\n",
       "    </tr>\n",
       "    <tr>\n",
       "      <th>998757</th>\n",
       "      <td>P027</td>\n",
       "      <td>C000309</td>\n",
       "      <td>T07076</td>\n",
       "      <td>I00158</td>\n",
       "      <td>S00550</td>\n",
       "      <td>9</td>\n",
       "      <td>NaN</td>\n",
       "      <td>17.0</td>\n",
       "      <td>153.0</td>\n",
       "    </tr>\n",
       "    <tr>\n",
       "      <th>999136</th>\n",
       "      <td>P033</td>\n",
       "      <td>C008559</td>\n",
       "      <td>T070336</td>\n",
       "      <td>I00158</td>\n",
       "      <td>S00553</td>\n",
       "      <td>11</td>\n",
       "      <td>NaN</td>\n",
       "      <td>17.0</td>\n",
       "      <td>187.0</td>\n",
       "    </tr>\n",
       "    <tr>\n",
       "      <th>999660</th>\n",
       "      <td>P019</td>\n",
       "      <td>C002022</td>\n",
       "      <td>T04150</td>\n",
       "      <td>I00158</td>\n",
       "      <td>S00347</td>\n",
       "      <td>7</td>\n",
       "      <td>NaN</td>\n",
       "      <td>17.0</td>\n",
       "      <td>119.0</td>\n",
       "    </tr>\n",
       "  </tbody>\n",
       "</table>\n",
       "<p>3723 rows × 9 columns</p>\n",
       "</div>"
      ],
      "text/plain": [
       "       payment_key customer_key time_key item_key store_key  quantity unit  \\\n",
       "413           P030      C001653  T053668   I00158    S00327         1  NaN   \n",
       "478           P013      C008861  T036513   I00158    S00280         9  NaN   \n",
       "1500          P007      C008864  T052262   I00158    S00308         7  NaN   \n",
       "2033          P037      C002870  T050819   I00158    S00506         7  NaN   \n",
       "2053          P020      C003666  T094595   I00158     S0077        11  NaN   \n",
       "...            ...          ...      ...      ...       ...       ...  ...   \n",
       "998455        P016      C007003   T04678   I00158    S00522         1  NaN   \n",
       "998754        P039      C004215  T022792   I00158     S0092         9  NaN   \n",
       "998757        P027      C000309   T07076   I00158    S00550         9  NaN   \n",
       "999136        P033      C008559  T070336   I00158    S00553        11  NaN   \n",
       "999660        P019      C002022   T04150   I00158    S00347         7  NaN   \n",
       "\n",
       "        unit_price  total_price  \n",
       "413           17.0         17.0  \n",
       "478           17.0        153.0  \n",
       "1500          17.0        119.0  \n",
       "2033          17.0        119.0  \n",
       "2053          17.0        187.0  \n",
       "...            ...          ...  \n",
       "998455        17.0         17.0  \n",
       "998754        17.0        153.0  \n",
       "998757        17.0        153.0  \n",
       "999136        17.0        187.0  \n",
       "999660        17.0        119.0  \n",
       "\n",
       "[3723 rows x 9 columns]"
      ]
     },
     "execution_count": 20,
     "metadata": {},
     "output_type": "execute_result"
    }
   ],
   "source": [
    "df_fact[df_fact.isnull().any(axis=1)]"
   ]
  },
  {
   "cell_type": "code",
   "execution_count": 21,
   "id": "beef008f-2444-47b3-876b-a71f32bf305f",
   "metadata": {},
   "outputs": [
    {
     "name": "stderr",
     "output_type": "stream",
     "text": [
      "C:\\Users\\ahmed\\AppData\\Local\\Temp\\ipykernel_3276\\3921156335.py:1: FutureWarning: A value is trying to be set on a copy of a DataFrame or Series through chained assignment using an inplace method.\n",
      "The behavior will change in pandas 3.0. This inplace method will never work because the intermediate object on which we are setting values always behaves as a copy.\n",
      "\n",
      "For example, when doing 'df[col].method(value, inplace=True)', try using 'df.method({col: value}, inplace=True)' or df[col] = df[col].method(value) instead, to perform the operation inplace on the original object.\n",
      "\n",
      "\n",
      "  df_fact['unit'].fillna(\"pack\", inplace=True)\n"
     ]
    }
   ],
   "source": [
    "df_fact['unit'].fillna(\"pack\", inplace=True)"
   ]
  },
  {
   "cell_type": "code",
   "execution_count": 22,
   "id": "27ef2cc9-8f62-4051-a5af-d400c8900dde",
   "metadata": {},
   "outputs": [
    {
     "data": {
      "text/html": [
       "<div>\n",
       "<style scoped>\n",
       "    .dataframe tbody tr th:only-of-type {\n",
       "        vertical-align: middle;\n",
       "    }\n",
       "\n",
       "    .dataframe tbody tr th {\n",
       "        vertical-align: top;\n",
       "    }\n",
       "\n",
       "    .dataframe thead th {\n",
       "        text-align: right;\n",
       "    }\n",
       "</style>\n",
       "<table border=\"1\" class=\"dataframe\">\n",
       "  <thead>\n",
       "    <tr style=\"text-align: right;\">\n",
       "      <th></th>\n",
       "      <th>payment_key</th>\n",
       "      <th>customer_key</th>\n",
       "      <th>time_key</th>\n",
       "      <th>item_key</th>\n",
       "      <th>store_key</th>\n",
       "      <th>quantity</th>\n",
       "      <th>unit</th>\n",
       "      <th>unit_price</th>\n",
       "      <th>total_price</th>\n",
       "    </tr>\n",
       "  </thead>\n",
       "  <tbody>\n",
       "    <tr>\n",
       "      <th>413</th>\n",
       "      <td>P030</td>\n",
       "      <td>C001653</td>\n",
       "      <td>T053668</td>\n",
       "      <td>I00158</td>\n",
       "      <td>S00327</td>\n",
       "      <td>1</td>\n",
       "      <td>pack</td>\n",
       "      <td>17.0</td>\n",
       "      <td>17.0</td>\n",
       "    </tr>\n",
       "    <tr>\n",
       "      <th>478</th>\n",
       "      <td>P013</td>\n",
       "      <td>C008861</td>\n",
       "      <td>T036513</td>\n",
       "      <td>I00158</td>\n",
       "      <td>S00280</td>\n",
       "      <td>9</td>\n",
       "      <td>pack</td>\n",
       "      <td>17.0</td>\n",
       "      <td>153.0</td>\n",
       "    </tr>\n",
       "    <tr>\n",
       "      <th>1500</th>\n",
       "      <td>P007</td>\n",
       "      <td>C008864</td>\n",
       "      <td>T052262</td>\n",
       "      <td>I00158</td>\n",
       "      <td>S00308</td>\n",
       "      <td>7</td>\n",
       "      <td>pack</td>\n",
       "      <td>17.0</td>\n",
       "      <td>119.0</td>\n",
       "    </tr>\n",
       "    <tr>\n",
       "      <th>2033</th>\n",
       "      <td>P037</td>\n",
       "      <td>C002870</td>\n",
       "      <td>T050819</td>\n",
       "      <td>I00158</td>\n",
       "      <td>S00506</td>\n",
       "      <td>7</td>\n",
       "      <td>pack</td>\n",
       "      <td>17.0</td>\n",
       "      <td>119.0</td>\n",
       "    </tr>\n",
       "    <tr>\n",
       "      <th>2053</th>\n",
       "      <td>P020</td>\n",
       "      <td>C003666</td>\n",
       "      <td>T094595</td>\n",
       "      <td>I00158</td>\n",
       "      <td>S0077</td>\n",
       "      <td>11</td>\n",
       "      <td>pack</td>\n",
       "      <td>17.0</td>\n",
       "      <td>187.0</td>\n",
       "    </tr>\n",
       "    <tr>\n",
       "      <th>...</th>\n",
       "      <td>...</td>\n",
       "      <td>...</td>\n",
       "      <td>...</td>\n",
       "      <td>...</td>\n",
       "      <td>...</td>\n",
       "      <td>...</td>\n",
       "      <td>...</td>\n",
       "      <td>...</td>\n",
       "      <td>...</td>\n",
       "    </tr>\n",
       "    <tr>\n",
       "      <th>998455</th>\n",
       "      <td>P016</td>\n",
       "      <td>C007003</td>\n",
       "      <td>T04678</td>\n",
       "      <td>I00158</td>\n",
       "      <td>S00522</td>\n",
       "      <td>1</td>\n",
       "      <td>pack</td>\n",
       "      <td>17.0</td>\n",
       "      <td>17.0</td>\n",
       "    </tr>\n",
       "    <tr>\n",
       "      <th>998754</th>\n",
       "      <td>P039</td>\n",
       "      <td>C004215</td>\n",
       "      <td>T022792</td>\n",
       "      <td>I00158</td>\n",
       "      <td>S0092</td>\n",
       "      <td>9</td>\n",
       "      <td>pack</td>\n",
       "      <td>17.0</td>\n",
       "      <td>153.0</td>\n",
       "    </tr>\n",
       "    <tr>\n",
       "      <th>998757</th>\n",
       "      <td>P027</td>\n",
       "      <td>C000309</td>\n",
       "      <td>T07076</td>\n",
       "      <td>I00158</td>\n",
       "      <td>S00550</td>\n",
       "      <td>9</td>\n",
       "      <td>pack</td>\n",
       "      <td>17.0</td>\n",
       "      <td>153.0</td>\n",
       "    </tr>\n",
       "    <tr>\n",
       "      <th>999136</th>\n",
       "      <td>P033</td>\n",
       "      <td>C008559</td>\n",
       "      <td>T070336</td>\n",
       "      <td>I00158</td>\n",
       "      <td>S00553</td>\n",
       "      <td>11</td>\n",
       "      <td>pack</td>\n",
       "      <td>17.0</td>\n",
       "      <td>187.0</td>\n",
       "    </tr>\n",
       "    <tr>\n",
       "      <th>999660</th>\n",
       "      <td>P019</td>\n",
       "      <td>C002022</td>\n",
       "      <td>T04150</td>\n",
       "      <td>I00158</td>\n",
       "      <td>S00347</td>\n",
       "      <td>7</td>\n",
       "      <td>pack</td>\n",
       "      <td>17.0</td>\n",
       "      <td>119.0</td>\n",
       "    </tr>\n",
       "  </tbody>\n",
       "</table>\n",
       "<p>3723 rows × 9 columns</p>\n",
       "</div>"
      ],
      "text/plain": [
       "       payment_key customer_key time_key item_key store_key  quantity  unit  \\\n",
       "413           P030      C001653  T053668   I00158    S00327         1  pack   \n",
       "478           P013      C008861  T036513   I00158    S00280         9  pack   \n",
       "1500          P007      C008864  T052262   I00158    S00308         7  pack   \n",
       "2033          P037      C002870  T050819   I00158    S00506         7  pack   \n",
       "2053          P020      C003666  T094595   I00158     S0077        11  pack   \n",
       "...            ...          ...      ...      ...       ...       ...   ...   \n",
       "998455        P016      C007003   T04678   I00158    S00522         1  pack   \n",
       "998754        P039      C004215  T022792   I00158     S0092         9  pack   \n",
       "998757        P027      C000309   T07076   I00158    S00550         9  pack   \n",
       "999136        P033      C008559  T070336   I00158    S00553        11  pack   \n",
       "999660        P019      C002022   T04150   I00158    S00347         7  pack   \n",
       "\n",
       "        unit_price  total_price  \n",
       "413           17.0         17.0  \n",
       "478           17.0        153.0  \n",
       "1500          17.0        119.0  \n",
       "2033          17.0        119.0  \n",
       "2053          17.0        187.0  \n",
       "...            ...          ...  \n",
       "998455        17.0         17.0  \n",
       "998754        17.0        153.0  \n",
       "998757        17.0        153.0  \n",
       "999136        17.0        187.0  \n",
       "999660        17.0        119.0  \n",
       "\n",
       "[3723 rows x 9 columns]"
      ]
     },
     "execution_count": 22,
     "metadata": {},
     "output_type": "execute_result"
    }
   ],
   "source": [
    "df_fact[df_fact['item_key']=='I00158']"
   ]
  },
  {
   "cell_type": "code",
   "execution_count": 23,
   "id": "decb548b-ee3c-4104-bbb5-26050ed846b9",
   "metadata": {},
   "outputs": [
    {
     "name": "stdout",
     "output_type": "stream",
     "text": [
      "<class 'pandas.core.frame.DataFrame'>\n",
      "RangeIndex: 1000000 entries, 0 to 999999\n",
      "Data columns (total 9 columns):\n",
      " #   Column        Non-Null Count    Dtype  \n",
      "---  ------        --------------    -----  \n",
      " 0   payment_key   1000000 non-null  object \n",
      " 1   customer_key  1000000 non-null  object \n",
      " 2   time_key      1000000 non-null  object \n",
      " 3   item_key      1000000 non-null  object \n",
      " 4   store_key     1000000 non-null  object \n",
      " 5   quantity      1000000 non-null  int64  \n",
      " 6   unit          1000000 non-null  object \n",
      " 7   unit_price    1000000 non-null  float64\n",
      " 8   total_price   1000000 non-null  float64\n",
      "dtypes: float64(2), int64(1), object(6)\n",
      "memory usage: 68.7+ MB\n"
     ]
    }
   ],
   "source": [
    "df_fact.info()"
   ]
  },
  {
   "cell_type": "markdown",
   "id": "76bf90c7",
   "metadata": {},
   "source": [
    "## **Summary**"
   ]
  },
  {
   "cell_type": "markdown",
   "id": "2947da71",
   "metadata": {},
   "source": [
    "| Category             | State | Action |\n",
    "|----------------------|-------|--------|\n",
    "| Number of duplicates | None  | None   |\n",
    "| Null values          | 3723 (unit) | Filled with `pack` Look beneath the table* |\n",
    "\n",
    "After deep investigation, we found that all the null values in the units column carry the same `item_key`: `I00158` and it costs `$17.0`, so we looked up the `item table` to find that it's also null.\n",
    "\n",
    "This item's name is `Frito Bold Flavors Variety`, so we googled it to find that it's sold as `pack`."
   ]
  },
  {
   "cell_type": "markdown",
   "id": "66dc2748-0260-4ec3-859f-f1f663550c95",
   "metadata": {},
   "source": [
    "---------------------------"
   ]
  },
  {
   "cell_type": "markdown",
   "id": "e646174d-c814-4ac6-aa11-0f717f8e2b2b",
   "metadata": {},
   "source": [
    "# **Items**"
   ]
  },
  {
   "cell_type": "code",
   "execution_count": 24,
   "id": "1f9549ef-aed1-4ee5-92a1-0bb97531d8fb",
   "metadata": {},
   "outputs": [
    {
     "data": {
      "text/html": [
       "<div>\n",
       "<style scoped>\n",
       "    .dataframe tbody tr th:only-of-type {\n",
       "        vertical-align: middle;\n",
       "    }\n",
       "\n",
       "    .dataframe tbody tr th {\n",
       "        vertical-align: top;\n",
       "    }\n",
       "\n",
       "    .dataframe thead th {\n",
       "        text-align: right;\n",
       "    }\n",
       "</style>\n",
       "<table border=\"1\" class=\"dataframe\">\n",
       "  <thead>\n",
       "    <tr style=\"text-align: right;\">\n",
       "      <th></th>\n",
       "      <th>item_key</th>\n",
       "      <th>item_name</th>\n",
       "      <th>description</th>\n",
       "      <th>unit_price</th>\n",
       "      <th>man_country</th>\n",
       "      <th>supplier</th>\n",
       "      <th>unit</th>\n",
       "    </tr>\n",
       "  </thead>\n",
       "  <tbody>\n",
       "    <tr>\n",
       "      <th>82</th>\n",
       "      <td>I00083</td>\n",
       "      <td>Ocean Spray Cranberry Juice Cocktail 15oz</td>\n",
       "      <td>Beverage - Juice</td>\n",
       "      <td>14.00</td>\n",
       "      <td>Finland</td>\n",
       "      <td>HARDFORD AB</td>\n",
       "      <td>bottles</td>\n",
       "    </tr>\n",
       "    <tr>\n",
       "      <th>165</th>\n",
       "      <td>I00166</td>\n",
       "      <td>Pop Chips Variety bags</td>\n",
       "      <td>Food - Chips</td>\n",
       "      <td>17.00</td>\n",
       "      <td>United States</td>\n",
       "      <td>MAESA SAS</td>\n",
       "      <td>bags</td>\n",
       "    </tr>\n",
       "    <tr>\n",
       "      <th>125</th>\n",
       "      <td>I00126</td>\n",
       "      <td>Splenda Sweetener</td>\n",
       "      <td>Coffee Sweetener</td>\n",
       "      <td>25.00</td>\n",
       "      <td>poland</td>\n",
       "      <td>CHROMADURLIN S.A.S</td>\n",
       "      <td>ct</td>\n",
       "    </tr>\n",
       "    <tr>\n",
       "      <th>8</th>\n",
       "      <td>I00009</td>\n",
       "      <td>Diet Coke - 12 oz cans</td>\n",
       "      <td>a. Beverage - Soda</td>\n",
       "      <td>16.25</td>\n",
       "      <td>Netherlands</td>\n",
       "      <td>Bolsius Boxmeer</td>\n",
       "      <td>cans</td>\n",
       "    </tr>\n",
       "    <tr>\n",
       "      <th>161</th>\n",
       "      <td>I00162</td>\n",
       "      <td>Gardettos Snacks</td>\n",
       "      <td>Food - Chips</td>\n",
       "      <td>16.00</td>\n",
       "      <td>Bangladesh</td>\n",
       "      <td>DENIMACH LTD</td>\n",
       "      <td>Bags</td>\n",
       "    </tr>\n",
       "    <tr>\n",
       "      <th>48</th>\n",
       "      <td>I00049</td>\n",
       "      <td>Waterloo Sparkling Original 12oz</td>\n",
       "      <td>a. Beverage Sparkling Water</td>\n",
       "      <td>8.00</td>\n",
       "      <td>Netherlands</td>\n",
       "      <td>Bolsius Boxmeer</td>\n",
       "      <td>cans</td>\n",
       "    </tr>\n",
       "    <tr>\n",
       "      <th>118</th>\n",
       "      <td>I00119</td>\n",
       "      <td>K Cups Original Donut Shop Med. Roast</td>\n",
       "      <td>Coffee K-Cups</td>\n",
       "      <td>53.00</td>\n",
       "      <td>India</td>\n",
       "      <td>Indo Count Industries Ltd</td>\n",
       "      <td>ct</td>\n",
       "    </tr>\n",
       "    <tr>\n",
       "      <th>51</th>\n",
       "      <td>I00052</td>\n",
       "      <td>Monster Lo-Carb 16 oz</td>\n",
       "      <td>Beverage - Energy/Protein</td>\n",
       "      <td>40.00</td>\n",
       "      <td>poland</td>\n",
       "      <td>CHROMADURLIN S.A.S</td>\n",
       "      <td>cans</td>\n",
       "    </tr>\n",
       "    <tr>\n",
       "      <th>142</th>\n",
       "      <td>I00143</td>\n",
       "      <td>Hefty Supreme Foam Plates 9 inch</td>\n",
       "      <td>Dishware - Plates</td>\n",
       "      <td>16.00</td>\n",
       "      <td>India</td>\n",
       "      <td>Indo Count Industries Ltd</td>\n",
       "      <td>ct</td>\n",
       "    </tr>\n",
       "    <tr>\n",
       "      <th>146</th>\n",
       "      <td>I00147</td>\n",
       "      <td>Plastic Forks White Heavyweight</td>\n",
       "      <td>Dishware - Utensils</td>\n",
       "      <td>15.00</td>\n",
       "      <td>China</td>\n",
       "      <td>CHERRY GROUP CO.,LTD</td>\n",
       "      <td>ct</td>\n",
       "    </tr>\n",
       "  </tbody>\n",
       "</table>\n",
       "</div>"
      ],
      "text/plain": [
       "    item_key                                   item_name  \\\n",
       "82    I00083  Ocean Spray Cranberry Juice Cocktail 15oz    \n",
       "165   I00166                      Pop Chips Variety bags   \n",
       "125   I00126                           Splenda Sweetener   \n",
       "8     I00009                      Diet Coke - 12 oz cans   \n",
       "161   I00162                            Gardettos Snacks   \n",
       "48    I00049            Waterloo Sparkling Original 12oz   \n",
       "118   I00119       K Cups Original Donut Shop Med. Roast   \n",
       "51    I00052                       Monster Lo-Carb 16 oz   \n",
       "142   I00143            Hefty Supreme Foam Plates 9 inch   \n",
       "146   I00147             Plastic Forks White Heavyweight   \n",
       "\n",
       "                     description  unit_price    man_country  \\\n",
       "82              Beverage - Juice       14.00        Finland   \n",
       "165                 Food - Chips       17.00  United States   \n",
       "125             Coffee Sweetener       25.00         poland   \n",
       "8             a. Beverage - Soda       16.25    Netherlands   \n",
       "161                 Food - Chips       16.00     Bangladesh   \n",
       "48   a. Beverage Sparkling Water        8.00    Netherlands   \n",
       "118                Coffee K-Cups       53.00          India   \n",
       "51     Beverage - Energy/Protein       40.00         poland   \n",
       "142            Dishware - Plates       16.00          India   \n",
       "146          Dishware - Utensils       15.00          China   \n",
       "\n",
       "                      supplier     unit  \n",
       "82                 HARDFORD AB  bottles  \n",
       "165                  MAESA SAS     bags  \n",
       "125         CHROMADURLIN S.A.S       ct  \n",
       "8              Bolsius Boxmeer     cans  \n",
       "161               DENIMACH LTD     Bags  \n",
       "48             Bolsius Boxmeer     cans  \n",
       "118  Indo Count Industries Ltd       ct  \n",
       "51          CHROMADURLIN S.A.S     cans  \n",
       "142  Indo Count Industries Ltd       ct  \n",
       "146       CHERRY GROUP CO.,LTD       ct  "
      ]
     },
     "execution_count": 24,
     "metadata": {},
     "output_type": "execute_result"
    }
   ],
   "source": [
    "df_item.sample(10)"
   ]
  },
  {
   "cell_type": "code",
   "execution_count": 25,
   "id": "0a7f26ed-d89c-4f9e-928f-7fffc142b77e",
   "metadata": {},
   "outputs": [
    {
     "name": "stdout",
     "output_type": "stream",
     "text": [
      "<class 'pandas.core.frame.DataFrame'>\n",
      "RangeIndex: 264 entries, 0 to 263\n",
      "Data columns (total 7 columns):\n",
      " #   Column       Non-Null Count  Dtype  \n",
      "---  ------       --------------  -----  \n",
      " 0   item_key     264 non-null    object \n",
      " 1   item_name    264 non-null    object \n",
      " 2   description  264 non-null    object \n",
      " 3   unit_price   264 non-null    float64\n",
      " 4   man_country  264 non-null    object \n",
      " 5   supplier     264 non-null    object \n",
      " 6   unit         263 non-null    object \n",
      "dtypes: float64(1), object(6)\n",
      "memory usage: 14.6+ KB\n"
     ]
    }
   ],
   "source": [
    "df_item.info()"
   ]
  },
  {
   "cell_type": "code",
   "execution_count": 26,
   "id": "ed2fcf65-9451-41c0-9d0b-c96383612c63",
   "metadata": {},
   "outputs": [
    {
     "data": {
      "text/html": [
       "<div>\n",
       "<style scoped>\n",
       "    .dataframe tbody tr th:only-of-type {\n",
       "        vertical-align: middle;\n",
       "    }\n",
       "\n",
       "    .dataframe tbody tr th {\n",
       "        vertical-align: top;\n",
       "    }\n",
       "\n",
       "    .dataframe thead th {\n",
       "        text-align: right;\n",
       "    }\n",
       "</style>\n",
       "<table border=\"1\" class=\"dataframe\">\n",
       "  <thead>\n",
       "    <tr style=\"text-align: right;\">\n",
       "      <th></th>\n",
       "      <th>item_key</th>\n",
       "      <th>item_name</th>\n",
       "      <th>description</th>\n",
       "      <th>unit_price</th>\n",
       "      <th>man_country</th>\n",
       "      <th>supplier</th>\n",
       "      <th>unit</th>\n",
       "    </tr>\n",
       "  </thead>\n",
       "  <tbody>\n",
       "    <tr>\n",
       "      <th>157</th>\n",
       "      <td>I00158</td>\n",
       "      <td>Frito Bold Flavors Variety</td>\n",
       "      <td>Food - Chips</td>\n",
       "      <td>17.0</td>\n",
       "      <td>Lithuania</td>\n",
       "      <td>BIGSO AB</td>\n",
       "      <td>NaN</td>\n",
       "    </tr>\n",
       "  </tbody>\n",
       "</table>\n",
       "</div>"
      ],
      "text/plain": [
       "    item_key                   item_name   description  unit_price  \\\n",
       "157   I00158  Frito Bold Flavors Variety  Food - Chips        17.0   \n",
       "\n",
       "    man_country  supplier unit  \n",
       "157   Lithuania  BIGSO AB  NaN  "
      ]
     },
     "execution_count": 26,
     "metadata": {},
     "output_type": "execute_result"
    }
   ],
   "source": [
    "df_item[df_item.isnull().any(axis=1)]"
   ]
  },
  {
   "cell_type": "code",
   "execution_count": 27,
   "id": "cda2e2ba-0bde-4c49-80ac-aa3ce59130a3",
   "metadata": {},
   "outputs": [
    {
     "name": "stderr",
     "output_type": "stream",
     "text": [
      "C:\\Users\\ahmed\\AppData\\Local\\Temp\\ipykernel_3276\\951068782.py:1: FutureWarning: A value is trying to be set on a copy of a DataFrame or Series through chained assignment using an inplace method.\n",
      "The behavior will change in pandas 3.0. This inplace method will never work because the intermediate object on which we are setting values always behaves as a copy.\n",
      "\n",
      "For example, when doing 'df[col].method(value, inplace=True)', try using 'df.method({col: value}, inplace=True)' or df[col] = df[col].method(value) instead, to perform the operation inplace on the original object.\n",
      "\n",
      "\n",
      "  df_item['unit'].fillna(\"pack\", inplace=True)\n"
     ]
    }
   ],
   "source": [
    "df_item['unit'].fillna(\"pack\", inplace=True)\n"
   ]
  },
  {
   "cell_type": "code",
   "execution_count": 28,
   "id": "1bdfa1ad-07c5-4e37-89aa-acc9441ffc23",
   "metadata": {},
   "outputs": [
    {
     "data": {
      "text/plain": [
       "array(['Netherlands', 'poland', 'Bangladesh', 'Finland', 'Lithuania',\n",
       "       'India', 'Germany', 'China', 'United States', 'Cambodia'],\n",
       "      dtype=object)"
      ]
     },
     "execution_count": 28,
     "metadata": {},
     "output_type": "execute_result"
    }
   ],
   "source": [
    "df_item['man_country'].unique()"
   ]
  },
  {
   "cell_type": "code",
   "execution_count": 29,
   "id": "31124c93-cb05-4b2e-9282-6b5ba148b35a",
   "metadata": {},
   "outputs": [],
   "source": [
    "df_item_sorted = df_item.sort_values(by='unit_price', ascending=False)\n"
   ]
  },
  {
   "cell_type": "code",
   "execution_count": 30,
   "id": "89788291-4c1d-4d87-bb25-a7637880a251",
   "metadata": {},
   "outputs": [
    {
     "data": {
      "text/html": [
       "<div>\n",
       "<style scoped>\n",
       "    .dataframe tbody tr th:only-of-type {\n",
       "        vertical-align: middle;\n",
       "    }\n",
       "\n",
       "    .dataframe tbody tr th {\n",
       "        vertical-align: top;\n",
       "    }\n",
       "\n",
       "    .dataframe thead th {\n",
       "        text-align: right;\n",
       "    }\n",
       "</style>\n",
       "<table border=\"1\" class=\"dataframe\">\n",
       "  <thead>\n",
       "    <tr style=\"text-align: right;\">\n",
       "      <th></th>\n",
       "      <th>item_key</th>\n",
       "      <th>item_name</th>\n",
       "      <th>description</th>\n",
       "      <th>unit_price</th>\n",
       "      <th>man_country</th>\n",
       "      <th>supplier</th>\n",
       "      <th>unit</th>\n",
       "    </tr>\n",
       "  </thead>\n",
       "  <tbody>\n",
       "    <tr>\n",
       "      <th>60</th>\n",
       "      <td>I00061</td>\n",
       "      <td>Red Bull 12oz</td>\n",
       "      <td>Beverage - Energy/Protein</td>\n",
       "      <td>55.0</td>\n",
       "      <td>United States</td>\n",
       "      <td>MAESA SAS</td>\n",
       "      <td>cans</td>\n",
       "    </tr>\n",
       "    <tr>\n",
       "      <th>114</th>\n",
       "      <td>I00115</td>\n",
       "      <td>K Cups Daily Chef Columbian Supremo</td>\n",
       "      <td>Coffee K-Cups</td>\n",
       "      <td>53.0</td>\n",
       "      <td>India</td>\n",
       "      <td>Indo Count Industries Ltd</td>\n",
       "      <td>ct</td>\n",
       "    </tr>\n",
       "    <tr>\n",
       "      <th>118</th>\n",
       "      <td>I00119</td>\n",
       "      <td>K Cups Original Donut Shop Med. Roast</td>\n",
       "      <td>Coffee K-Cups</td>\n",
       "      <td>53.0</td>\n",
       "      <td>India</td>\n",
       "      <td>Indo Count Industries Ltd</td>\n",
       "      <td>ct</td>\n",
       "    </tr>\n",
       "    <tr>\n",
       "      <th>115</th>\n",
       "      <td>I00116</td>\n",
       "      <td>K Cups Dunkin Donuts Medium Roast</td>\n",
       "      <td>Coffee K-Cups</td>\n",
       "      <td>48.0</td>\n",
       "      <td>United States</td>\n",
       "      <td>MAESA SAS</td>\n",
       "      <td>ct</td>\n",
       "    </tr>\n",
       "    <tr>\n",
       "      <th>116</th>\n",
       "      <td>I00117</td>\n",
       "      <td>K Cups Folgers Lively Columbian</td>\n",
       "      <td>Coffee K-Cups</td>\n",
       "      <td>46.0</td>\n",
       "      <td>Cambodia</td>\n",
       "      <td>NINGBO SEDUNO IMP &amp; EXP CO.LTD</td>\n",
       "      <td>ct</td>\n",
       "    </tr>\n",
       "  </tbody>\n",
       "</table>\n",
       "</div>"
      ],
      "text/plain": [
       "    item_key                              item_name  \\\n",
       "60    I00061                          Red Bull 12oz   \n",
       "114   I00115    K Cups Daily Chef Columbian Supremo   \n",
       "118   I00119  K Cups Original Donut Shop Med. Roast   \n",
       "115   I00116      K Cups Dunkin Donuts Medium Roast   \n",
       "116   I00117        K Cups Folgers Lively Columbian   \n",
       "\n",
       "                   description  unit_price    man_country  \\\n",
       "60   Beverage - Energy/Protein        55.0  United States   \n",
       "114              Coffee K-Cups        53.0          India   \n",
       "118              Coffee K-Cups        53.0          India   \n",
       "115              Coffee K-Cups        48.0  United States   \n",
       "116              Coffee K-Cups        46.0       Cambodia   \n",
       "\n",
       "                           supplier  unit  \n",
       "60                        MAESA SAS  cans  \n",
       "114       Indo Count Industries Ltd    ct  \n",
       "118       Indo Count Industries Ltd    ct  \n",
       "115                       MAESA SAS    ct  \n",
       "116  NINGBO SEDUNO IMP & EXP CO.LTD    ct  "
      ]
     },
     "execution_count": 30,
     "metadata": {},
     "output_type": "execute_result"
    }
   ],
   "source": [
    "df_item_sorted.head()"
   ]
  },
  {
   "cell_type": "code",
   "execution_count": 31,
   "id": "1efc5a9d-ca4f-4042-ac48-164bc449f367",
   "metadata": {},
   "outputs": [
    {
     "data": {
      "text/plain": [
       "man_country\n",
       "Bangladesh       34\n",
       "India            32\n",
       "Germany          31\n",
       "poland           28\n",
       "Finland          27\n",
       "Netherlands      26\n",
       "Lithuania        26\n",
       "Cambodia         24\n",
       "United States    20\n",
       "China            16\n",
       "Name: count, dtype: int64"
      ]
     },
     "execution_count": 31,
     "metadata": {},
     "output_type": "execute_result"
    }
   ],
   "source": [
    "df_count = df_item['man_country'].value_counts()\n",
    "df_count"
   ]
  },
  {
   "cell_type": "markdown",
   "id": "614f282e",
   "metadata": {},
   "source": [
    "| Category             | State | Action |\n",
    "|----------------------|-------|--------|\n",
    "| Number of duplicates | None  | None   |\n",
    "| Null values          | 1 (unit) | Filled with `pack` after looking up the item name|"
   ]
  },
  {
   "cell_type": "markdown",
   "id": "ab3c093f-985d-4836-bf87-478d402a4b86",
   "metadata": {},
   "source": [
    "-----"
   ]
  },
  {
   "cell_type": "markdown",
   "id": "90195428-8154-440f-988b-b19d977f81a3",
   "metadata": {},
   "source": [
    "# **Stores**"
   ]
  },
  {
   "cell_type": "code",
   "execution_count": 32,
   "id": "94c709e0-2aea-4863-9902-0176fe072b3c",
   "metadata": {},
   "outputs": [
    {
     "data": {
      "text/html": [
       "<div>\n",
       "<style scoped>\n",
       "    .dataframe tbody tr th:only-of-type {\n",
       "        vertical-align: middle;\n",
       "    }\n",
       "\n",
       "    .dataframe tbody tr th {\n",
       "        vertical-align: top;\n",
       "    }\n",
       "\n",
       "    .dataframe thead th {\n",
       "        text-align: right;\n",
       "    }\n",
       "</style>\n",
       "<table border=\"1\" class=\"dataframe\">\n",
       "  <thead>\n",
       "    <tr style=\"text-align: right;\">\n",
       "      <th></th>\n",
       "      <th>store_key</th>\n",
       "      <th>division</th>\n",
       "      <th>district</th>\n",
       "      <th>upazila</th>\n",
       "    </tr>\n",
       "  </thead>\n",
       "  <tbody>\n",
       "    <tr>\n",
       "      <th>0</th>\n",
       "      <td>S0001</td>\n",
       "      <td>SYLHET</td>\n",
       "      <td>HABIGANJ</td>\n",
       "      <td>AJMIRIGANJ</td>\n",
       "    </tr>\n",
       "    <tr>\n",
       "      <th>1</th>\n",
       "      <td>S0002</td>\n",
       "      <td>SYLHET</td>\n",
       "      <td>HABIGANJ</td>\n",
       "      <td>BAHUBAL</td>\n",
       "    </tr>\n",
       "    <tr>\n",
       "      <th>2</th>\n",
       "      <td>S0003</td>\n",
       "      <td>SYLHET</td>\n",
       "      <td>HABIGANJ</td>\n",
       "      <td>BANIACHONG</td>\n",
       "    </tr>\n",
       "    <tr>\n",
       "      <th>3</th>\n",
       "      <td>S0004</td>\n",
       "      <td>SYLHET</td>\n",
       "      <td>HABIGANJ</td>\n",
       "      <td>CHUNARUGHAT</td>\n",
       "    </tr>\n",
       "    <tr>\n",
       "      <th>4</th>\n",
       "      <td>S0005</td>\n",
       "      <td>SYLHET</td>\n",
       "      <td>HABIGANJ</td>\n",
       "      <td>HABIGANJ SADAR</td>\n",
       "    </tr>\n",
       "  </tbody>\n",
       "</table>\n",
       "</div>"
      ],
      "text/plain": [
       "  store_key division  district         upazila\n",
       "0     S0001   SYLHET  HABIGANJ      AJMIRIGANJ\n",
       "1     S0002   SYLHET  HABIGANJ         BAHUBAL\n",
       "2     S0003   SYLHET  HABIGANJ      BANIACHONG\n",
       "3     S0004   SYLHET  HABIGANJ     CHUNARUGHAT\n",
       "4     S0005   SYLHET  HABIGANJ  HABIGANJ SADAR"
      ]
     },
     "execution_count": 32,
     "metadata": {},
     "output_type": "execute_result"
    }
   ],
   "source": [
    "df_store.head()"
   ]
  },
  {
   "cell_type": "code",
   "execution_count": 33,
   "id": "65b548ef-c4ae-4748-9f53-a1761b06ac46",
   "metadata": {},
   "outputs": [
    {
     "name": "stdout",
     "output_type": "stream",
     "text": [
      "<class 'pandas.core.frame.DataFrame'>\n",
      "RangeIndex: 726 entries, 0 to 725\n",
      "Data columns (total 4 columns):\n",
      " #   Column     Non-Null Count  Dtype \n",
      "---  ------     --------------  ----- \n",
      " 0   store_key  726 non-null    object\n",
      " 1   division   726 non-null    object\n",
      " 2   district   726 non-null    object\n",
      " 3   upazila    726 non-null    object\n",
      "dtypes: object(4)\n",
      "memory usage: 22.8+ KB\n"
     ]
    }
   ],
   "source": [
    "df_store.info()"
   ]
  },
  {
   "cell_type": "code",
   "execution_count": 34,
   "id": "0f9a4d0e-ea50-42fb-a0b7-e07522c74424",
   "metadata": {},
   "outputs": [],
   "source": [
    "df_store['store_key'] = df_store['store_key'].astype(\"str\")"
   ]
  },
  {
   "cell_type": "markdown",
   "id": "33cf7285",
   "metadata": {},
   "source": [
    "## **Summary**"
   ]
  },
  {
   "cell_type": "markdown",
   "id": "dc741ae1",
   "metadata": {},
   "source": [
    ">**This table looked pretty clean**"
   ]
  },
  {
   "cell_type": "markdown",
   "id": "ebe62cf3-c426-44a5-860e-06f5ecd5d039",
   "metadata": {},
   "source": [
    "-----------------------"
   ]
  },
  {
   "cell_type": "markdown",
   "id": "2442d896-7e43-4562-8b2c-debc36d69867",
   "metadata": {},
   "source": [
    "# **Time**"
   ]
  },
  {
   "cell_type": "code",
   "execution_count": 35,
   "id": "444a42e6-0315-4ba1-825d-fd5fc0164ba5",
   "metadata": {},
   "outputs": [
    {
     "data": {
      "text/html": [
       "<div>\n",
       "<style scoped>\n",
       "    .dataframe tbody tr th:only-of-type {\n",
       "        vertical-align: middle;\n",
       "    }\n",
       "\n",
       "    .dataframe tbody tr th {\n",
       "        vertical-align: top;\n",
       "    }\n",
       "\n",
       "    .dataframe thead th {\n",
       "        text-align: right;\n",
       "    }\n",
       "</style>\n",
       "<table border=\"1\" class=\"dataframe\">\n",
       "  <thead>\n",
       "    <tr style=\"text-align: right;\">\n",
       "      <th></th>\n",
       "      <th>time_key</th>\n",
       "      <th>date</th>\n",
       "      <th>hour</th>\n",
       "      <th>day</th>\n",
       "      <th>week</th>\n",
       "      <th>month</th>\n",
       "      <th>quarter</th>\n",
       "      <th>year</th>\n",
       "    </tr>\n",
       "  </thead>\n",
       "  <tbody>\n",
       "    <tr>\n",
       "      <th>0</th>\n",
       "      <td>T00001</td>\n",
       "      <td>2017-05-20 14:56:00</td>\n",
       "      <td>14</td>\n",
       "      <td>20</td>\n",
       "      <td>3</td>\n",
       "      <td>5</td>\n",
       "      <td>2</td>\n",
       "      <td>2017</td>\n",
       "    </tr>\n",
       "    <tr>\n",
       "      <th>1</th>\n",
       "      <td>T00002</td>\n",
       "      <td>2015-01-30 22:14:00</td>\n",
       "      <td>22</td>\n",
       "      <td>30</td>\n",
       "      <td>4</td>\n",
       "      <td>1</td>\n",
       "      <td>1</td>\n",
       "      <td>2015</td>\n",
       "    </tr>\n",
       "    <tr>\n",
       "      <th>2</th>\n",
       "      <td>T00003</td>\n",
       "      <td>2020-03-14 02:34:00</td>\n",
       "      <td>2</td>\n",
       "      <td>14</td>\n",
       "      <td>2</td>\n",
       "      <td>3</td>\n",
       "      <td>1</td>\n",
       "      <td>2020</td>\n",
       "    </tr>\n",
       "    <tr>\n",
       "      <th>3</th>\n",
       "      <td>T00004</td>\n",
       "      <td>2018-04-27 12:19:00</td>\n",
       "      <td>12</td>\n",
       "      <td>27</td>\n",
       "      <td>4</td>\n",
       "      <td>4</td>\n",
       "      <td>2</td>\n",
       "      <td>2018</td>\n",
       "    </tr>\n",
       "    <tr>\n",
       "      <th>4</th>\n",
       "      <td>T00005</td>\n",
       "      <td>2018-04-14 10:43:00</td>\n",
       "      <td>10</td>\n",
       "      <td>14</td>\n",
       "      <td>2</td>\n",
       "      <td>4</td>\n",
       "      <td>2</td>\n",
       "      <td>2018</td>\n",
       "    </tr>\n",
       "  </tbody>\n",
       "</table>\n",
       "</div>"
      ],
      "text/plain": [
       "  time_key                 date  hour  day  week  month  quarter  year\n",
       "0   T00001  2017-05-20 14:56:00    14   20     3      5        2  2017\n",
       "1   T00002  2015-01-30 22:14:00    22   30     4      1        1  2015\n",
       "2   T00003  2020-03-14 02:34:00     2   14     2      3        1  2020\n",
       "3   T00004  2018-04-27 12:19:00    12   27     4      4        2  2018\n",
       "4   T00005  2018-04-14 10:43:00    10   14     2      4        2  2018"
      ]
     },
     "execution_count": 35,
     "metadata": {},
     "output_type": "execute_result"
    }
   ],
   "source": [
    "df_time.head()"
   ]
  },
  {
   "cell_type": "code",
   "execution_count": 36,
   "id": "7882f576-731a-4fa3-a0fb-400449458468",
   "metadata": {},
   "outputs": [
    {
     "name": "stdout",
     "output_type": "stream",
     "text": [
      "<class 'pandas.core.frame.DataFrame'>\n",
      "RangeIndex: 99999 entries, 0 to 99998\n",
      "Data columns (total 8 columns):\n",
      " #   Column    Non-Null Count  Dtype \n",
      "---  ------    --------------  ----- \n",
      " 0   time_key  99999 non-null  object\n",
      " 1   date      99999 non-null  object\n",
      " 2   hour      99999 non-null  int64 \n",
      " 3   day       99999 non-null  int64 \n",
      " 4   week      99999 non-null  int64 \n",
      " 5   month     99999 non-null  int64 \n",
      " 6   quarter   99999 non-null  int64 \n",
      " 7   year      99999 non-null  int64 \n",
      "dtypes: int64(6), object(2)\n",
      "memory usage: 6.1+ MB\n"
     ]
    }
   ],
   "source": [
    "df_time.info()"
   ]
  },
  {
   "cell_type": "code",
   "execution_count": 37,
   "id": "d4325dbb-2181-42c1-ad02-3a08b1f71456",
   "metadata": {},
   "outputs": [
    {
     "data": {
      "text/plain": [
       "0       2017-05-20 14:56:00\n",
       "1       2015-01-30 22:14:00\n",
       "2       2020-03-14 02:34:00\n",
       "3       2018-04-27 12:19:00\n",
       "4       2018-04-14 10:43:00\n",
       "                ...        \n",
       "99994   2015-01-04 17:22:00\n",
       "99995   2015-01-17 21:09:00\n",
       "99996   2020-01-23 14:42:00\n",
       "99997   2015-10-31 13:52:00\n",
       "99998   2017-06-08 08:59:00\n",
       "Name: date, Length: 99999, dtype: datetime64[ns]"
      ]
     },
     "execution_count": 37,
     "metadata": {},
     "output_type": "execute_result"
    }
   ],
   "source": [
    "df_time['date'] = pd.to_datetime(df_time['date'])\n",
    "df_time['date']"
   ]
  },
  {
   "cell_type": "code",
   "execution_count": 38,
   "id": "c0b9e08c-198b-489d-9d0a-db393b4ec449",
   "metadata": {},
   "outputs": [
    {
     "data": {
      "text/html": [
       "<div>\n",
       "<style scoped>\n",
       "    .dataframe tbody tr th:only-of-type {\n",
       "        vertical-align: middle;\n",
       "    }\n",
       "\n",
       "    .dataframe tbody tr th {\n",
       "        vertical-align: top;\n",
       "    }\n",
       "\n",
       "    .dataframe thead th {\n",
       "        text-align: right;\n",
       "    }\n",
       "</style>\n",
       "<table border=\"1\" class=\"dataframe\">\n",
       "  <thead>\n",
       "    <tr style=\"text-align: right;\">\n",
       "      <th></th>\n",
       "      <th>time_key</th>\n",
       "      <th>date</th>\n",
       "      <th>hour</th>\n",
       "      <th>day</th>\n",
       "      <th>week</th>\n",
       "      <th>month</th>\n",
       "      <th>quarter</th>\n",
       "      <th>year</th>\n",
       "      <th>time</th>\n",
       "    </tr>\n",
       "  </thead>\n",
       "  <tbody>\n",
       "    <tr>\n",
       "      <th>0</th>\n",
       "      <td>T00001</td>\n",
       "      <td>2017-05-20</td>\n",
       "      <td>14</td>\n",
       "      <td>20</td>\n",
       "      <td>3</td>\n",
       "      <td>5</td>\n",
       "      <td>2</td>\n",
       "      <td>2017</td>\n",
       "      <td>14:56:00</td>\n",
       "    </tr>\n",
       "    <tr>\n",
       "      <th>1</th>\n",
       "      <td>T00002</td>\n",
       "      <td>2015-01-30</td>\n",
       "      <td>22</td>\n",
       "      <td>30</td>\n",
       "      <td>4</td>\n",
       "      <td>1</td>\n",
       "      <td>1</td>\n",
       "      <td>2015</td>\n",
       "      <td>22:14:00</td>\n",
       "    </tr>\n",
       "    <tr>\n",
       "      <th>2</th>\n",
       "      <td>T00003</td>\n",
       "      <td>2020-03-14</td>\n",
       "      <td>2</td>\n",
       "      <td>14</td>\n",
       "      <td>2</td>\n",
       "      <td>3</td>\n",
       "      <td>1</td>\n",
       "      <td>2020</td>\n",
       "      <td>02:34:00</td>\n",
       "    </tr>\n",
       "    <tr>\n",
       "      <th>3</th>\n",
       "      <td>T00004</td>\n",
       "      <td>2018-04-27</td>\n",
       "      <td>12</td>\n",
       "      <td>27</td>\n",
       "      <td>4</td>\n",
       "      <td>4</td>\n",
       "      <td>2</td>\n",
       "      <td>2018</td>\n",
       "      <td>12:19:00</td>\n",
       "    </tr>\n",
       "    <tr>\n",
       "      <th>4</th>\n",
       "      <td>T00005</td>\n",
       "      <td>2018-04-14</td>\n",
       "      <td>10</td>\n",
       "      <td>14</td>\n",
       "      <td>2</td>\n",
       "      <td>4</td>\n",
       "      <td>2</td>\n",
       "      <td>2018</td>\n",
       "      <td>10:43:00</td>\n",
       "    </tr>\n",
       "  </tbody>\n",
       "</table>\n",
       "</div>"
      ],
      "text/plain": [
       "  time_key        date  hour  day  week  month  quarter  year      time\n",
       "0   T00001  2017-05-20    14   20     3      5        2  2017  14:56:00\n",
       "1   T00002  2015-01-30    22   30     4      1        1  2015  22:14:00\n",
       "2   T00003  2020-03-14     2   14     2      3        1  2020  02:34:00\n",
       "3   T00004  2018-04-27    12   27     4      4        2  2018  12:19:00\n",
       "4   T00005  2018-04-14    10   14     2      4        2  2018  10:43:00"
      ]
     },
     "execution_count": 38,
     "metadata": {},
     "output_type": "execute_result"
    }
   ],
   "source": [
    "df_time['time'] = df_time['date'].dt.time\n",
    "df_time['date'] = df_time['date'].dt.date\n",
    "df_time.head()"
   ]
  },
  {
   "cell_type": "code",
   "execution_count": 39,
   "id": "5200d698-dfcd-4e34-9ddc-d9465d249c52",
   "metadata": {},
   "outputs": [],
   "source": [
    "df_time['week'] = df_time['week'].replace({\n",
    "    \"3rd Week\": 3,\n",
    "    \"4th Week\": 4,\n",
    "    \"2nd Week\": 2,\n",
    "    \"1st Week\": 1\n",
    "})\n",
    "df_time['week'] = df_time['week'].astype(int)"
   ]
  },
  {
   "cell_type": "code",
   "execution_count": 40,
   "id": "989b4791-24a7-4eea-8851-8e6132ed76b7",
   "metadata": {},
   "outputs": [],
   "source": [
    "df_time['quarter'] = df_time['quarter'].replace({\n",
    "    \"Q1\": 1,\n",
    "    \"Q2\": 2,\n",
    "    \"Q3\": 3,\n",
    "    \"Q4\": 4})\n",
    "\n",
    "df_time['quarter'] = df_time['quarter'].astype(int)"
   ]
  },
  {
   "cell_type": "code",
   "execution_count": 41,
   "id": "9a448443-0012-4d99-9256-c1bd3399af0e",
   "metadata": {},
   "outputs": [],
   "source": [
    "df_time['date'] = pd.to_datetime(df_time['date'])\n",
    "df_time['quarter'] = df_time['quarter'].astype('category') \n",
    "df_time['time'] = pd.to_datetime(df_time['time'], format='%H:%M:%S').dt.time"
   ]
  },
  {
   "cell_type": "code",
   "execution_count": 42,
   "id": "a86b2f3c-e1b9-4f44-9b34-44f9bf9f3deb",
   "metadata": {},
   "outputs": [
    {
     "data": {
      "text/plain": [
       "time_key            object\n",
       "date        datetime64[ns]\n",
       "hour                 int64\n",
       "day                  int64\n",
       "week                 int32\n",
       "month                int64\n",
       "quarter           category\n",
       "year                 int64\n",
       "time                object\n",
       "dtype: object"
      ]
     },
     "execution_count": 42,
     "metadata": {},
     "output_type": "execute_result"
    }
   ],
   "source": [
    "df_time.dtypes"
   ]
  },
  {
   "cell_type": "code",
   "execution_count": 43,
   "id": "879609a3-4d16-4b42-9f81-ab68030ec051",
   "metadata": {},
   "outputs": [
    {
     "data": {
      "text/html": [
       "<div>\n",
       "<style scoped>\n",
       "    .dataframe tbody tr th:only-of-type {\n",
       "        vertical-align: middle;\n",
       "    }\n",
       "\n",
       "    .dataframe tbody tr th {\n",
       "        vertical-align: top;\n",
       "    }\n",
       "\n",
       "    .dataframe thead th {\n",
       "        text-align: right;\n",
       "    }\n",
       "</style>\n",
       "<table border=\"1\" class=\"dataframe\">\n",
       "  <thead>\n",
       "    <tr style=\"text-align: right;\">\n",
       "      <th></th>\n",
       "      <th>time_key</th>\n",
       "      <th>date</th>\n",
       "      <th>hour</th>\n",
       "      <th>day</th>\n",
       "      <th>week</th>\n",
       "      <th>month</th>\n",
       "      <th>quarter</th>\n",
       "      <th>year</th>\n",
       "      <th>time</th>\n",
       "    </tr>\n",
       "  </thead>\n",
       "  <tbody>\n",
       "    <tr>\n",
       "      <th>59067</th>\n",
       "      <td>T059068</td>\n",
       "      <td>2014-03-04</td>\n",
       "      <td>12</td>\n",
       "      <td>4</td>\n",
       "      <td>1</td>\n",
       "      <td>3</td>\n",
       "      <td>1</td>\n",
       "      <td>2014</td>\n",
       "      <td>12:50:00</td>\n",
       "    </tr>\n",
       "    <tr>\n",
       "      <th>87021</th>\n",
       "      <td>T087022</td>\n",
       "      <td>2016-12-19</td>\n",
       "      <td>21</td>\n",
       "      <td>19</td>\n",
       "      <td>3</td>\n",
       "      <td>12</td>\n",
       "      <td>4</td>\n",
       "      <td>2016</td>\n",
       "      <td>21:20:00</td>\n",
       "    </tr>\n",
       "    <tr>\n",
       "      <th>80507</th>\n",
       "      <td>T080508</td>\n",
       "      <td>2019-01-10</td>\n",
       "      <td>1</td>\n",
       "      <td>10</td>\n",
       "      <td>2</td>\n",
       "      <td>1</td>\n",
       "      <td>1</td>\n",
       "      <td>2019</td>\n",
       "      <td>01:14:00</td>\n",
       "    </tr>\n",
       "    <tr>\n",
       "      <th>15314</th>\n",
       "      <td>T015315</td>\n",
       "      <td>2015-12-26</td>\n",
       "      <td>14</td>\n",
       "      <td>26</td>\n",
       "      <td>4</td>\n",
       "      <td>12</td>\n",
       "      <td>4</td>\n",
       "      <td>2015</td>\n",
       "      <td>14:09:00</td>\n",
       "    </tr>\n",
       "    <tr>\n",
       "      <th>98030</th>\n",
       "      <td>T098031</td>\n",
       "      <td>2016-10-30</td>\n",
       "      <td>19</td>\n",
       "      <td>30</td>\n",
       "      <td>4</td>\n",
       "      <td>10</td>\n",
       "      <td>4</td>\n",
       "      <td>2016</td>\n",
       "      <td>19:57:00</td>\n",
       "    </tr>\n",
       "  </tbody>\n",
       "</table>\n",
       "</div>"
      ],
      "text/plain": [
       "      time_key       date  hour  day  week  month quarter  year      time\n",
       "59067  T059068 2014-03-04    12    4     1      3       1  2014  12:50:00\n",
       "87021  T087022 2016-12-19    21   19     3     12       4  2016  21:20:00\n",
       "80507  T080508 2019-01-10     1   10     2      1       1  2019  01:14:00\n",
       "15314  T015315 2015-12-26    14   26     4     12       4  2015  14:09:00\n",
       "98030  T098031 2016-10-30    19   30     4     10       4  2016  19:57:00"
      ]
     },
     "execution_count": 43,
     "metadata": {},
     "output_type": "execute_result"
    }
   ],
   "source": [
    "df_time.sample(5)"
   ]
  },
  {
   "cell_type": "markdown",
   "id": "d5022eec",
   "metadata": {},
   "source": [
    "## **Summary**"
   ]
  },
  {
   "cell_type": "markdown",
   "id": "8a930c63",
   "metadata": {},
   "source": [
    "| Category             | State | Action |\n",
    "|----------------------|-------|--------|\n",
    "| Number of duplicates | None  | None   |\n",
    "| Null values          | None  | None   |\n",
    "| Date column data type| `str`   | Changed to the propper datetime dtype |\n",
    "| Date column          | `datetime` | Changed to only date |\n",
    "| Time column          | Doesn't exist | Created from date column |\n",
    "| Week number          | `str`   | Changed to `int` |\n",
    "| Quarter number       | `str`   | Changed to `int` |"
   ]
  },
  {
   "cell_type": "markdown",
   "id": "6ab1e139-fc9c-4d9e-a48f-2f77c8c3e3b6",
   "metadata": {},
   "source": [
    "-----------------------------------------"
   ]
  },
  {
   "cell_type": "markdown",
   "id": "7e7f9f4c-5ce0-4b5c-a5e5-5001fc9f9988",
   "metadata": {},
   "source": [
    "# **Transaction**"
   ]
  },
  {
   "cell_type": "code",
   "execution_count": 44,
   "id": "8a592c4f-35ed-4b39-b654-95f23a18c40a",
   "metadata": {},
   "outputs": [
    {
     "data": {
      "text/html": [
       "<div>\n",
       "<style scoped>\n",
       "    .dataframe tbody tr th:only-of-type {\n",
       "        vertical-align: middle;\n",
       "    }\n",
       "\n",
       "    .dataframe tbody tr th {\n",
       "        vertical-align: top;\n",
       "    }\n",
       "\n",
       "    .dataframe thead th {\n",
       "        text-align: right;\n",
       "    }\n",
       "</style>\n",
       "<table border=\"1\" class=\"dataframe\">\n",
       "  <thead>\n",
       "    <tr style=\"text-align: right;\">\n",
       "      <th></th>\n",
       "      <th>payment_key</th>\n",
       "      <th>trans_type</th>\n",
       "      <th>bank_name</th>\n",
       "    </tr>\n",
       "  </thead>\n",
       "  <tbody>\n",
       "    <tr>\n",
       "      <th>0</th>\n",
       "      <td>P001</td>\n",
       "      <td>cash</td>\n",
       "      <td>NaN</td>\n",
       "    </tr>\n",
       "    <tr>\n",
       "      <th>1</th>\n",
       "      <td>P002</td>\n",
       "      <td>card</td>\n",
       "      <td>AB Bank Limited</td>\n",
       "    </tr>\n",
       "    <tr>\n",
       "      <th>2</th>\n",
       "      <td>P003</td>\n",
       "      <td>card</td>\n",
       "      <td>Bangladesh Commerce Bank Limited</td>\n",
       "    </tr>\n",
       "    <tr>\n",
       "      <th>3</th>\n",
       "      <td>P004</td>\n",
       "      <td>card</td>\n",
       "      <td>Bank Asia Limited</td>\n",
       "    </tr>\n",
       "    <tr>\n",
       "      <th>4</th>\n",
       "      <td>P005</td>\n",
       "      <td>card</td>\n",
       "      <td>BRAC Bank Limited</td>\n",
       "    </tr>\n",
       "  </tbody>\n",
       "</table>\n",
       "</div>"
      ],
      "text/plain": [
       "  payment_key trans_type                         bank_name\n",
       "0        P001       cash                               NaN\n",
       "1        P002       card                   AB Bank Limited\n",
       "2        P003       card  Bangladesh Commerce Bank Limited\n",
       "3        P004       card                 Bank Asia Limited\n",
       "4        P005       card                 BRAC Bank Limited"
      ]
     },
     "execution_count": 44,
     "metadata": {},
     "output_type": "execute_result"
    }
   ],
   "source": [
    "df_trans.head()"
   ]
  },
  {
   "cell_type": "code",
   "execution_count": 45,
   "id": "39760f64-2040-442c-b127-ff3d90aa4745",
   "metadata": {},
   "outputs": [
    {
     "name": "stdout",
     "output_type": "stream",
     "text": [
      "<class 'pandas.core.frame.DataFrame'>\n",
      "RangeIndex: 39 entries, 0 to 38\n",
      "Data columns (total 3 columns):\n",
      " #   Column       Non-Null Count  Dtype \n",
      "---  ------       --------------  ----- \n",
      " 0   payment_key  39 non-null     object\n",
      " 1   trans_type   39 non-null     object\n",
      " 2   bank_name    38 non-null     object\n",
      "dtypes: object(3)\n",
      "memory usage: 1.0+ KB\n"
     ]
    }
   ],
   "source": [
    "df_trans.info()"
   ]
  },
  {
   "cell_type": "code",
   "execution_count": 46,
   "id": "642ac337-953c-458d-a33f-5f9247441e0b",
   "metadata": {},
   "outputs": [],
   "source": [
    "df_trans['bank_name'] = df_trans['bank_name'].fillna('Unknown')"
   ]
  },
  {
   "cell_type": "markdown",
   "id": "0dd52eae",
   "metadata": {},
   "source": [
    "## **Summary**"
   ]
  },
  {
   "cell_type": "markdown",
   "id": "b6034e15",
   "metadata": {},
   "source": [
    "| Category             | State | Action |\n",
    "|----------------------|-------|--------|\n",
    "| Number of duplicates | None  | None   |\n",
    "| Null values          | 1 (bank name)  | Filled with `Unknown`   |"
   ]
  },
  {
   "cell_type": "markdown",
   "id": "3593f2a4-6165-420f-8506-9c2485828a91",
   "metadata": {},
   "source": [
    "------------------------------------------------"
   ]
  },
  {
   "cell_type": "markdown",
   "id": "4e5a6e3b",
   "metadata": {},
   "source": [
    "## **Clean Data to be added to SQL database**"
   ]
  },
  {
   "cell_type": "code",
   "execution_count": 49,
   "id": "ad687bb6-ea2c-45b8-9e74-aa05ea66af22",
   "metadata": {},
   "outputs": [],
   "source": [
    "df_time.to_csv(r\"C:\\Mine\\My Projects\\E-commerce database\\CSV\\time.csv\", index=False)\n",
    "df_fact.to_csv(r\"C:\\Mine\\My Projects\\E-commerce database\\CSV\\fact.csv\", index=False)\n",
    "df_item.to_csv(r\"C:\\Mine\\My Projects\\E-commerce database\\CSV\\item.csv\", index=False)\n",
    "df_store.to_csv(r\"C:\\Mine\\My Projects\\E-commerce database\\CSV\\store.csv\", index=False)\n",
    "df_customer.to_csv(r\"C:\\Mine\\My Projects\\E-commerce database\\CSV\\customer.csv\", index=False)\n",
    "df_trans.to_csv(r\"C:\\Mine\\My Projects\\E-commerce database\\CSV\\trans.csv\", index=False)"
   ]
  }
 ],
 "metadata": {
  "kernelspec": {
   "display_name": "base",
   "language": "python",
   "name": "python3"
  },
  "language_info": {
   "codemirror_mode": {
    "name": "ipython",
    "version": 3
   },
   "file_extension": ".py",
   "mimetype": "text/x-python",
   "name": "python",
   "nbconvert_exporter": "python",
   "pygments_lexer": "ipython3",
   "version": "3.12.7"
  }
 },
 "nbformat": 4,
 "nbformat_minor": 5
}
